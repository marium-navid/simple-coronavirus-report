{
 "cells": [
  {
   "cell_type": "code",
   "execution_count": 1,
   "metadata": {},
   "outputs": [],
   "source": [
    "\"\"\"\n",
    "Create the report as HTML and upload to GitHub.\n",
    "\"\"\"\n",
    "import datetime\n",
    "import dotenv\n",
    "import os\n",
    "import subprocess\n",
    "import sys\n",
    "\n",
    "import pandas as pd\n",
    "import papermill as pm \n",
    "import automate\n",
    "\n",
    "dotenv.load_dotenv()\n",
    "\n",
    "#sys.path.append(os.getcwd())\n",
    "\n",
    "# Constants for loading the file to GH Pages branch\n",
    "TOKEN = os.environ[\"GITHUB_TOKEN_PASSWORD\"]\n",
    "REPO = \"tiffanychu90/simple-coronavirus-report\"\n",
    "BRANCH = \"master\"\n",
    "COMMIT_MESSAGE = \"Update report\""
   ]
  },
  {
   "cell_type": "code",
   "execution_count": 2,
   "metadata": {},
   "outputs": [
    {
     "data": {
      "application/vnd.jupyter.widget-view+json": {
       "model_id": "2126739dd97b4ec6929c5f96cc71389b",
       "version_major": 2,
       "version_minor": 0
      },
      "text/plain": [
       "HBox(children=(HTML(value='Executing'), FloatProgress(value=0.0, max=29.0), HTML(value='')))"
      ]
     },
     "metadata": {},
     "output_type": "display_data"
    },
    {
     "name": "stdout",
     "output_type": "stream",
     "text": [
      "\n",
      "Ran notebook\n",
      "Converted to HTML\n",
      "name: geospatial-example\n",
      "html name: geospatial-example.html\n"
     ]
    },
    {
     "data": {
      "application/vnd.jupyter.widget-view+json": {
       "model_id": "8878d5d439594f3ea5a979d4c9a33503",
       "version_major": 2,
       "version_minor": 0
      },
      "text/plain": [
       "HBox(children=(HTML(value='Executing'), FloatProgress(value=0.0, max=4.0), HTML(value='')))"
      ]
     },
     "metadata": {},
     "output_type": "display_data"
    },
    {
     "name": "stdout",
     "output_type": "stream",
     "text": [
      "\n",
      "Ran notebook\n",
      "Converted to HTML\n",
      "name: full-report\n",
      "html name: full-report.html\n"
     ]
    }
   ],
   "source": [
    "notebooks_to_run = {\n",
    "    \"4-geospatial-example.ipynb\": \"./geospatial-example.ipynb\",\n",
    "    \"5-full-report.ipynb\": \"./full-report.ipynb\",\n",
    "}\n",
    "\n",
    "for key, file_name in notebooks_to_run.items():\n",
    "    pm.execute_notebook(\n",
    "        f'../notebooks/{key}',\n",
    "        file_name,\n",
    "        #cwd='../reports'\n",
    "    )\n",
    "    \n",
    "    print(\"Ran notebook\")\n",
    "    # shell out, run NB Convert \n",
    "    output_format = 'html'\n",
    "\n",
    "    subprocess.run([\n",
    "        \"jupyter\",\n",
    "        \"nbconvert\",\n",
    "        \"--to\",\n",
    "        output_format,\n",
    "        \"--no-input\",\n",
    "        \"--no-prompt\",\n",
    "        file_name,\n",
    "    ]) \n",
    "\n",
    "    print(\"Converted to HTML\")\n",
    "    \n",
    "    # Now find the HTML file and upload\n",
    "    name = file_name.replace(\".ipynb\", \"\").replace(\"./\", \"\")\n",
    "    html_file_name = f\"{name}.html\" \n",
    "    print(f\"name: {name}\")\n",
    "    print(f\"html name: {html_file_name}\")\n",
    "    '''\n",
    "    automate.upload_file_to_github(\n",
    "        TOKEN,\n",
    "        REPO,\n",
    "        BRANCH,\n",
    "        f\"{html_file_name}\",\n",
    "        f\"{html_file_name}\",\n",
    "        f\"{COMMIT_MESSAGE}\",\n",
    "        DEFAULT_COMMITTER,\n",
    "    )\n",
    "    '''"
   ]
  },
  {
   "cell_type": "code",
   "execution_count": 3,
   "metadata": {},
   "outputs": [
    {
     "data": {
      "text/plain": [
       "'\\nfor key, file_name in notebooks_to_run.items():\\n    try:\\n        pm.execute_notebook(\\n            f\\'/notebooks/{key}\\',\\n            file_name,\\n            cwd=\\'/reports\\'\\n        )\\n\\n        print(\"Ran notebook\")\\n\\n        # shell out, run NB Convert \\n        output_format = \\'html\\'\\n        \\n        subprocess.run([\\n            \"jupyter\",\\n            \"nbconvert\",\\n            \"--to\",\\n            output_format,\\n            \"--no-input\",\\n            \"--no-prompt\",\\n            file_name,\\n        ]) \\n\\n        print(\"Converted to HTML\")\\n        # Now find the HTML file and upload\\n        name = file_name.replace(\".ipynb\", \"\").replace(\"./\", \"\")\\n        html_file_name = f\"{name}.html\" \\n        print(f\"name: {name}\")\\n        print(f\"html name: {html_file_name}\")\\n\\n        automate.upload_file_to_github(\\n            TOKEN,\\n            REPO,\\n            BRANCH,\\n            f\"{html_file_name}\",\\n            f\"{html_file_name}\",\\n            f\"{COMMIT_MESSAGE}\",\\n            DEFAULT_COMMITTER,\\n        )\\n\\n        print(\"Successful upload to GitHub\")\\n    except: \\n        pass\\n        print(\"Unsuccessful upload to GitHub\")\\n'"
      ]
     },
     "execution_count": 3,
     "metadata": {},
     "output_type": "execute_result"
    }
   ],
   "source": [
    "\"\"\"\n",
    "for key, file_name in notebooks_to_run.items():\n",
    "    try:\n",
    "        pm.execute_notebook(\n",
    "            f'/notebooks/{key}',\n",
    "            file_name,\n",
    "            cwd='/reports'\n",
    "        )\n",
    "\n",
    "        print(\"Ran notebook\")\n",
    "\n",
    "        # shell out, run NB Convert \n",
    "        output_format = 'html'\n",
    "        \n",
    "        subprocess.run([\n",
    "            \"jupyter\",\n",
    "            \"nbconvert\",\n",
    "            \"--to\",\n",
    "            output_format,\n",
    "            \"--no-input\",\n",
    "            \"--no-prompt\",\n",
    "            file_name,\n",
    "        ]) \n",
    "\n",
    "        print(\"Converted to HTML\")\n",
    "        # Now find the HTML file and upload\n",
    "        name = file_name.replace(\".ipynb\", \"\").replace(\"./\", \"\")\n",
    "        html_file_name = f\"{name}.html\" \n",
    "        print(f\"name: {name}\")\n",
    "        print(f\"html name: {html_file_name}\")\n",
    "\n",
    "        automate.upload_file_to_github(\n",
    "            TOKEN,\n",
    "            REPO,\n",
    "            BRANCH,\n",
    "            f\"{html_file_name}\",\n",
    "            f\"{html_file_name}\",\n",
    "            f\"{COMMIT_MESSAGE}\",\n",
    "            DEFAULT_COMMITTER,\n",
    "        )\n",
    "\n",
    "        print(\"Successful upload to GitHub\")\n",
    "    except: \n",
    "        pass\n",
    "        print(\"Unsuccessful upload to GitHub\")\n",
    "\"\"\""
   ]
  }
 ],
 "metadata": {
  "kernelspec": {
   "display_name": "Python 3",
   "language": "python",
   "name": "python3"
  },
  "language_info": {
   "codemirror_mode": {
    "name": "ipython",
    "version": 3
   },
   "file_extension": ".py",
   "mimetype": "text/x-python",
   "name": "python",
   "nbconvert_exporter": "python",
   "pygments_lexer": "ipython3",
   "version": "3.8.5"
  }
 },
 "nbformat": 4,
 "nbformat_minor": 4
}
