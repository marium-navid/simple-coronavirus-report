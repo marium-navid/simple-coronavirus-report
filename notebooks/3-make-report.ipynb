{
 "cells": [
  {
   "cell_type": "markdown",
   "metadata": {},
   "source": [
    "# Make a report\n",
    "\n",
    "Compare at least 5 places in this report. \n",
    "\n",
    "The geographic units can be county (which is the level of geography given), but can be aggregated to the state or metropolitan-level too. The `msa_county_pop_crosswalk` provides population at the county-level, but links the county to MSA. \n",
    "\n",
    "Include a write-up at the beginning explaining what the charts should show. \n",
    "\n",
    "Provide a short explanation for anyone wondering how you can compare those 5 places that are so different. Even if you chose 5 large counties of similar size, people always wonder, are those places actually comparable? Convince them by choosing metrics that make the units comparable!\n",
    "* Did you adjust for population? \n",
    "* Did you measure all 5 places against the same set of guidelines, so that there is only 1 definition of what is \"severe\"? \n",
    "* Did you use some other metric that helps compare across places, such as doubling time, proportion of the population, etc?\n",
    "\n",
    "**Instructions** \n",
    "1. Use functions to clean your data (do something additional with the JHU data). \n",
    "1. Move your funtions into a `utils.py`, and invoke it in this notebook. You may use a `chart_utils.py` too, but that isn't required.\n",
    "1. Use `Markdown` cells for your write-up. Use it for headings, etc throughout your report.\n",
    "1. Each should contain at least 2 layers. At minimum, you'll be giving 5 charts, 1 chart for each place. But, feel free to make 2 charts for each place, such as cumulative cases and new cases, new cases and new deaths, new cases and population-adjusted new cases, etc.\n",
    "1. When the chart function is defined, it should contain some args. Rather than hard-coding and creating a smaller dataframe for each place before the chart function is invoked, do some of that subsetting within the function. \n",
    "1. Use an `altair` theme or define your own colors. Give a custom title to each chart specific to the place without hard-coding it.\n",
    "1. Overall, this report should be very reproducible for other places. Today, it might be 5 places, but if you had to swap out those places for a different set of places, can you easily do it in <10 min? "
   ]
  },
  {
   "cell_type": "code",
   "execution_count": null,
   "metadata": {},
   "outputs": [],
   "source": []
  }
 ],
 "metadata": {
  "kernelspec": {
   "display_name": "Python 3",
   "language": "python",
   "name": "python3"
  },
  "language_info": {
   "codemirror_mode": {
    "name": "ipython",
    "version": 3
   },
   "file_extension": ".py",
   "mimetype": "text/x-python",
   "name": "python",
   "nbconvert_exporter": "python",
   "pygments_lexer": "ipython3",
   "version": "3.8.5"
  }
 },
 "nbformat": 4,
 "nbformat_minor": 4
}
